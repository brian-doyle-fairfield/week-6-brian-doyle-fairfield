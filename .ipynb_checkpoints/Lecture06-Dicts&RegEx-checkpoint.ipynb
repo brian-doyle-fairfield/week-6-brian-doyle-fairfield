{
 "cells": [
  {
   "cell_type": "markdown",
   "metadata": {
    "slideshow": {
     "slide_type": "slide"
    }
   },
   "source": [
    "![DSB Logo](img/Dolan.jpg)\n",
    "# Python Data Types: Dictionaries\n",
    "## PY4E Chapter 9\n",
    "### How data are stored and processed in Python"
   ]
  },
  {
   "cell_type": "markdown",
   "metadata": {
    "slideshow": {
     "slide_type": "slide"
    }
   },
   "source": [
    "# Dicts in General\n",
    "\n",
    "- Dicts are somewhat similar to lists\n",
    "    - in lists, _positions_ of elements are marked by _integers_\n",
    "    - in dicts, _positions_ of elements are marked by (_alsmost_) any data type\n",
    "    \n",
    "- A dictionary is a mapping between a set of indices (_keys_) and a set of _values_\n",
    "    - each key in a dict is mapped to a value\n",
    "        - this type of mapping is called a _key-value pair_ or an _item_\n",
    "        \n",
    "```\n",
    "dict -> {key : value}\n",
    "```"
   ]
  },
  {
   "cell_type": "code",
   "execution_count": 1,
   "metadata": {
    "slideshow": {
     "slide_type": "subslide"
    }
   },
   "outputs": [
    {
     "name": "stdout",
     "output_type": "stream",
     "text": [
      "{}\n"
     ]
    }
   ],
   "source": [
    "sample_dict = dict()\n",
    "# This will print out an empty dict `{}`\n",
    "print(sample_dict)"
   ]
  },
  {
   "cell_type": "code",
   "execution_count": 2,
   "metadata": {
    "slideshow": {
     "slide_type": "subslide"
    }
   },
   "outputs": [
    {
     "name": "stdout",
     "output_type": "stream",
     "text": [
      "{}\n"
     ]
    }
   ],
   "source": [
    "# another way of defining a dict\n",
    "sample_dict2 = {}\n",
    "print(sample_dict2)"
   ]
  },
  {
   "cell_type": "code",
   "execution_count": 3,
   "metadata": {
    "slideshow": {
     "slide_type": "subslide"
    }
   },
   "outputs": [
    {
     "name": "stdout",
     "output_type": "stream",
     "text": [
      "{'one': 1}\n"
     ]
    }
   ],
   "source": [
    "# to update/add item into a dict\n",
    "# in following item, `'one'` is the key, and `1` is the value\n",
    "sample_dict['one'] = 1\n",
    "print(sample_dict)"
   ]
  },
  {
   "cell_type": "code",
   "execution_count": 4,
   "metadata": {
    "slideshow": {
     "slide_type": "subslide"
    }
   },
   "outputs": [
    {
     "name": "stdout",
     "output_type": "stream",
     "text": [
      "{'one': 1, 'two': 2, 'three': 3}\n"
     ]
    }
   ],
   "source": [
    "# You can define a dictionary with multiple items\n",
    "sample_dict2 = {'one': 1, 'two': 2, 'three': 3}\n",
    "print(sample_dict2)"
   ]
  },
  {
   "cell_type": "code",
   "execution_count": 5,
   "metadata": {
    "slideshow": {
     "slide_type": "subslide"
    }
   },
   "outputs": [
    {
     "data": {
      "text/plain": [
       "1"
      ]
     },
     "execution_count": 5,
     "metadata": {},
     "output_type": "execute_result"
    }
   ],
   "source": [
    "# you can always access the value in a dict by using its key\n",
    "sample_dict2['one']"
   ]
  },
  {
   "cell_type": "code",
   "execution_count": 6,
   "metadata": {
    "slideshow": {
     "slide_type": "slide"
    }
   },
   "outputs": [
    {
     "ename": "SyntaxError",
     "evalue": "invalid syntax (<ipython-input-6-375b34314873>, line 4)",
     "output_type": "error",
     "traceback": [
      "\u001b[0;36m  File \u001b[0;32m\"<ipython-input-6-375b34314873>\"\u001b[0;36m, line \u001b[0;32m4\u001b[0m\n\u001b[0;31m    if 'four' in sample_dict2\u001b[0m\n\u001b[0m                             ^\u001b[0m\n\u001b[0;31mSyntaxError\u001b[0m\u001b[0;31m:\u001b[0m invalid syntax\n"
     ]
    }
   ],
   "source": [
    "# however, if the key is not in the dict, you will not get the results\n",
    "sample_dict2['four']\n",
    "\n",
    "if 'four' in sample_dict2"
   ]
  },
  {
   "cell_type": "code",
   "execution_count": 7,
   "metadata": {
    "slideshow": {
     "slide_type": "slide"
    }
   },
   "outputs": [
    {
     "ename": "KeyError",
     "evalue": "1",
     "output_type": "error",
     "traceback": [
      "\u001b[0;31m---------------------------------------------------------------------------\u001b[0m",
      "\u001b[0;31mKeyError\u001b[0m                                  Traceback (most recent call last)",
      "\u001b[0;32m<ipython-input-7-9b475b4555f0>\u001b[0m in \u001b[0;36m<module>\u001b[0;34m\u001b[0m\n\u001b[1;32m      1\u001b[0m \u001b[0;31m# also, the reverse-lookup (using value to look up key) does not work\u001b[0m\u001b[0;34m\u001b[0m\u001b[0;34m\u001b[0m\u001b[0;34m\u001b[0m\u001b[0m\n\u001b[0;32m----> 2\u001b[0;31m \u001b[0msample_dict2\u001b[0m\u001b[0;34m[\u001b[0m\u001b[0;36m1\u001b[0m\u001b[0;34m]\u001b[0m\u001b[0;34m\u001b[0m\u001b[0;34m\u001b[0m\u001b[0m\n\u001b[0m",
      "\u001b[0;31mKeyError\u001b[0m: 1"
     ]
    }
   ],
   "source": [
    "# also, the reverse-lookup (using value to look up key) does not work\n",
    "sample_dict2[1]"
   ]
  },
  {
   "cell_type": "code",
   "execution_count": 8,
   "metadata": {
    "slideshow": {
     "slide_type": "subslide"
    }
   },
   "outputs": [
    {
     "data": {
      "text/plain": [
       "3"
      ]
     },
     "execution_count": 8,
     "metadata": {},
     "output_type": "execute_result"
    }
   ],
   "source": [
    "# you can find the number of key-value pairs using `len()`\n",
    "len(sample_dict2) # 3"
   ]
  },
  {
   "cell_type": "code",
   "execution_count": 9,
   "metadata": {
    "slideshow": {
     "slide_type": "subslide"
    }
   },
   "outputs": [
    {
     "data": {
      "text/plain": [
       "0"
      ]
     },
     "execution_count": 9,
     "metadata": {},
     "output_type": "execute_result"
    }
   ],
   "source": [
    "# of course an empty dict will return a zero\n",
    "len({})"
   ]
  },
  {
   "cell_type": "code",
   "execution_count": 10,
   "metadata": {
    "slideshow": {
     "slide_type": "subslide"
    }
   },
   "outputs": [
    {
     "data": {
      "text/plain": [
       "True"
      ]
     },
     "execution_count": 10,
     "metadata": {},
     "output_type": "execute_result"
    }
   ],
   "source": [
    "# you can use the `in` operator \n",
    "# however this works on keys but not values\n",
    "'one' in sample_dict2"
   ]
  },
  {
   "cell_type": "code",
   "execution_count": 11,
   "metadata": {
    "slideshow": {
     "slide_type": "subslide"
    }
   },
   "outputs": [
    {
     "data": {
      "text/plain": [
       "False"
      ]
     },
     "execution_count": 11,
     "metadata": {},
     "output_type": "execute_result"
    }
   ],
   "source": [
    "# but this will not work on keys\n",
    "1 in sample_dict2"
   ]
  },
  {
   "cell_type": "code",
   "execution_count": 12,
   "metadata": {
    "slideshow": {
     "slide_type": "subslide"
    }
   },
   "outputs": [
    {
     "data": {
      "text/plain": [
       "True"
      ]
     },
     "execution_count": 12,
     "metadata": {},
     "output_type": "execute_result"
    }
   ],
   "source": [
    "# but you can use the `.values()` method to retrieve the values\n",
    "vals = sample_dict2.values()\n",
    "1 in vals\n"
   ]
  },
  {
   "cell_type": "markdown",
   "metadata": {
    "slideshow": {
     "slide_type": "slide"
    }
   },
   "source": [
    "# Dictionary as a Set of Counters\n",
    "\n",
    "- Suppose you are given a bunch of text, and count how many times each letter appears. You can do it as:\n",
    "    - You could create 26 variables, one for each letter of the alphabet. Then you could traverse the string and, for each character, increment the corresponding counter, probably using a chained conditional.\n",
    "    - You could create a list with 26 elements. Then you could convert each character to a number (using the built-in function ord), use the number as an index into the list, and increment the appropriate counter.\n",
    "    - You could create a dictionary with characters as keys and counters as the corresponding values. The first time you see a character, you would add an item to the dictionary. After that you would increment the value of an existing item.\n",
    "        - here you can only reserve space for letters do appear, but not the letters that do not"
   ]
  },
  {
   "cell_type": "code",
   "execution_count": 13,
   "metadata": {
    "slideshow": {
     "slide_type": "subslide"
    }
   },
   "outputs": [
    {
     "name": "stdout",
     "output_type": "stream",
     "text": [
      "{'b': 1, 'r': 2, 'o': 2, 'n': 1, 't': 1, 's': 2, 'a': 1, 'u': 2}\n"
     ]
    }
   ],
   "source": [
    "word = 'brontosaurus' \n",
    "d = dict()\n",
    "for c in word:\n",
    "    if c not in d: \n",
    "        d[c] = 1\n",
    "    else:\n",
    "        d[c] = d[c] + 1\n",
    "print(d)"
   ]
  },
  {
   "cell_type": "code",
   "execution_count": 14,
   "metadata": {
    "slideshow": {
     "slide_type": "subslide"
    }
   },
   "outputs": [
    {
     "name": "stdout",
     "output_type": "stream",
     "text": [
      "100\n",
      "0\n"
     ]
    }
   ],
   "source": [
    "# you can use the `.get()` method to retrieve item from a dict\n",
    "counts = { 'chuck' : 1 , 'annie' : 42, 'jan': 100}\n",
    "print(counts.get('jan', 0)) # 100\n",
    "print(counts.get('tim', 0)) # 0"
   ]
  },
  {
   "cell_type": "code",
   "execution_count": 15,
   "metadata": {
    "slideshow": {
     "slide_type": "subslide"
    }
   },
   "outputs": [
    {
     "name": "stdout",
     "output_type": "stream",
     "text": [
      "{'b': 1, 'r': 2, 'o': 2, 'n': 1, 't': 1, 's': 2, 'a': 1, 'u': 2}\n"
     ]
    }
   ],
   "source": [
    "# So with this method, we can rewrite the counter code as below\n",
    "# this is prederred method because it is optimal\n",
    "d = dict()\n",
    "for c in word:\n",
    "    d[c] = d.get(c,0) + 1\n",
    "print(d)\n",
    "\n",
    "# the zero is there because if it can't find it, it will put out zero"
   ]
  },
  {
   "cell_type": "markdown",
   "metadata": {
    "slideshow": {
     "slide_type": "slide"
    }
   },
   "source": [
    "# Traversing the Dictionary\n",
    "\n",
    "- Like lists and strings, dicts are collections/sequences, so that we can use loop to traverse them\n",
    "    - you can go through the keys\n",
    "    - or you can go through key-value pairs (__preferred method__)\n",
    "        - in Python, data like _key-value pairs_ are called _tuples_ (see chapter 10 in PY4E) for more details"
   ]
  },
  {
   "cell_type": "code",
   "execution_count": 16,
   "metadata": {
    "slideshow": {
     "slide_type": "subslide"
    }
   },
   "outputs": [
    {
     "name": "stdout",
     "output_type": "stream",
     "text": [
      "b 1\n",
      "r 2\n",
      "o 2\n",
      "n 1\n",
      "t 1\n",
      "s 2\n",
      "a 1\n",
      "u 2\n"
     ]
    }
   ],
   "source": [
    "# iterate through using keys\n",
    "for key in d: # d is the counter dict we created\n",
    "    print(key, d[key])"
   ]
  },
  {
   "cell_type": "code",
   "execution_count": 17,
   "metadata": {
    "slideshow": {
     "slide_type": "subslide"
    }
   },
   "outputs": [
    {
     "name": "stdout",
     "output_type": "stream",
     "text": [
      "b 1\n",
      "r 2\n",
      "o 2\n",
      "n 1\n",
      "t 1\n",
      "s 2\n",
      "a 1\n",
      "u 2\n"
     ]
    }
   ],
   "source": [
    "# iterate through dictionary using key-value pairs\n",
    "for k,v in d.items(): # k-key, v-value\n",
    "    print(k,v)"
   ]
  },
  {
   "cell_type": "code",
   "execution_count": 18,
   "metadata": {
    "slideshow": {
     "slide_type": "subslide"
    }
   },
   "outputs": [
    {
     "name": "stdout",
     "output_type": "stream",
     "text": [
      "r 2\n",
      "o 2\n",
      "s 2\n",
      "u 2\n"
     ]
    }
   ],
   "source": [
    "# you can always add conditions to the for loops\n",
    "# when iteratre through a dict\n",
    "# for instance, we want the letters appear more than once\n",
    "# in the word 'brontosaurus' \n",
    "for k,v in d.items(): # k-key, v-value\n",
    "    if v > 1:\n",
    "        print(k,v)"
   ]
  },
  {
   "cell_type": "markdown",
   "metadata": {
    "slideshow": {
     "slide_type": "slide"
    }
   },
   "source": [
    "# Sorting the Dictionaries\n",
    "\n",
    "- Unlike lists, dictionaries cannot be directly sorted, but we can sort the _keys_ and _values_\n",
    "    - _keys_ and _values_ are essentially lists, or can be converted to lists\n",
    "        - according to field experiences, sorting _values_ is more useful than sorting _keys_"
   ]
  },
  {
   "cell_type": "code",
   "execution_count": 19,
   "metadata": {
    "slideshow": {
     "slide_type": "subslide"
    }
   },
   "outputs": [
    {
     "name": "stdout",
     "output_type": "stream",
     "text": [
      "a 1\n",
      "b 1\n",
      "n 1\n",
      "o 2\n",
      "r 2\n",
      "s 2\n",
      "t 1\n",
      "u 2\n"
     ]
    }
   ],
   "source": [
    "# sorting by keys is easy\n",
    "\n",
    "# extract keys as a list\n",
    "key_lst = list(d.keys())\n",
    "\n",
    "# sort a list\n",
    "key_lst.sort()\n",
    "\n",
    "# traverse through the sorted lisst\n",
    "for key in key_lst:\n",
    "    print(key, d[key])"
   ]
  },
  {
   "cell_type": "code",
   "execution_count": 20,
   "metadata": {},
   "outputs": [
    {
     "data": {
      "text/plain": [
       "{'a': 1, 'b': 1, 'n': 1, 'o': 2, 'r': 2, 's': 2, 't': 1, 'u': 2}"
      ]
     },
     "execution_count": 20,
     "metadata": {},
     "output_type": "execute_result"
    }
   ],
   "source": [
    "# sorting by keys is easy\n",
    "\n",
    "# extract keys as a list\n",
    "key_lst = list(d.keys())\n",
    "\n",
    "sorted_d = {}\n",
    "\n",
    "# sort a list\n",
    "key_lst.sort()\n",
    "\n",
    "# traverse through the sorted lisst\n",
    "for key in key_lst:\n",
    "    \n",
    "    sorted_d[key] = d[key]\n",
    "    \n",
    "sorted_d"
   ]
  },
  {
   "cell_type": "markdown",
   "metadata": {
    "slideshow": {
     "slide_type": "slide"
    }
   },
   "source": [
    "# Sorting the Dictionaries\n",
    "\n",
    "- Even though sorting the dictionaries by values is not as direct and easy\n",
    "    - but essentially you still sort the the keys\n",
    "    - what you need to do is to _reversed_ dicts\n",
    "    - problem is that keys are _unique_, but values are not, so if you have duplicate _values_, it will raise a problem"
   ]
  },
  {
   "cell_type": "code",
   "execution_count": 21,
   "metadata": {
    "slideshow": {
     "slide_type": "subslide"
    }
   },
   "outputs": [
    {
     "name": "stdout",
     "output_type": "stream",
     "text": [
      "chuck 1\n",
      "annie 42\n",
      "jan 100\n"
     ]
    }
   ],
   "source": [
    "# reverse the `counts` dict\n",
    "rev_counts = {v:k for k,v in counts.items()}\n",
    "# get keys from the `rev_counts` dict\n",
    "# keep in mind that the keys are value in the original dict\n",
    "val_lst = list(rev_counts.keys())\n",
    "# sort the value list\n",
    "val_lst.sort()\n",
    "for val in val_lst:\n",
    "    # reason we print it out this way is that \n",
    "    # we need to reverse it back to the original (key, value) pairs\n",
    "    print(rev_counts[val], val)"
   ]
  },
  {
   "cell_type": "code",
   "execution_count": 22,
   "metadata": {},
   "outputs": [
    {
     "name": "stdout",
     "output_type": "stream",
     "text": [
      "{1: 'chuck', 42: 'annie', 100: 'jan'}\n"
     ]
    }
   ],
   "source": [
    "print(rev_counts)"
   ]
  },
  {
   "cell_type": "markdown",
   "metadata": {
    "slideshow": {
     "slide_type": "slide"
    }
   },
   "source": [
    "# Dictionary Operations\n",
    "\n",
    "- Like other data types we have covered so far, dictionaries have certain operations\n",
    "    - keep in mind that dict items are __only__ accessible using __keys__\n",
    "    - dictionaries are mutable, means that you can _update_ values in dict items\n",
    "    - you can also use the `del` operator to delete an item from a dictionary"
   ]
  },
  {
   "cell_type": "code",
   "execution_count": 23,
   "metadata": {
    "slideshow": {
     "slide_type": "subslide"
    }
   },
   "outputs": [
    {
     "name": "stdout",
     "output_type": "stream",
     "text": [
      "{'apples': 430, 'bananas': 312, 'oranges': 525}\n"
     ]
    }
   ],
   "source": [
    "inventory = {\"apples\": 430, \"bananas\": 312, \"oranges\": 525, \"pears\": 217}\n",
    "del inventory[\"pears\"]\n",
    "print(inventory)"
   ]
  },
  {
   "cell_type": "code",
   "execution_count": 24,
   "metadata": {
    "slideshow": {
     "slide_type": "subslide"
    }
   },
   "outputs": [
    {
     "name": "stdout",
     "output_type": "stream",
     "text": [
      "{'apples': 430, 'bananas': 512, 'oranges': 525}\n"
     ]
    }
   ],
   "source": [
    "inventory[\"bananas\"] += 200\n",
    "print(inventory)"
   ]
  },
  {
   "cell_type": "markdown",
   "metadata": {
    "slideshow": {
     "slide_type": "slide"
    }
   },
   "source": [
    "# Aliasing and Copying\n",
    "\n",
    "- Since dicts are mutable, we need to be careful of _aliasing_\n",
    "    - keep in mind that aliasing is create a second name of the same object\n",
    "    - thus, change the alias will affect the change to the original dict\n",
    "    \n",
    "- If you want to change a version of the dict, without affecting the original:\n",
    "    - you need to create a copy of the dict\n",
    "    - since this is a different object, change the copy will _not_ change the original"
   ]
  },
  {
   "cell_type": "code",
   "execution_count": 25,
   "metadata": {
    "slideshow": {
     "slide_type": "subslide"
    }
   },
   "outputs": [],
   "source": [
    "opposites = {\"up\": \"down\", \"right\": \"wrong\", \"yes\": \"no\"}\n",
    "alias_dict = opposites\n",
    "copy_dict = opposites.copy() "
   ]
  },
  {
   "cell_type": "code",
   "execution_count": 26,
   "metadata": {
    "slideshow": {
     "slide_type": "subslide"
    }
   },
   "outputs": [
    {
     "data": {
      "text/plain": [
       "'left'"
      ]
     },
     "execution_count": 26,
     "metadata": {},
     "output_type": "execute_result"
    }
   ],
   "source": [
    "# this will change the dict value to 'left'\n",
    "alias_dict['right'] = 'left'\n",
    "opposites['right']"
   ]
  },
  {
   "cell_type": "code",
   "execution_count": 27,
   "metadata": {
    "slideshow": {
     "slide_type": "subslide"
    }
   },
   "outputs": [
    {
     "data": {
      "text/plain": [
       "'left'"
      ]
     },
     "execution_count": 27,
     "metadata": {},
     "output_type": "execute_result"
    }
   ],
   "source": [
    "# this will not change the dict value - it remains as 'left'\n",
    "copy_dict['right'] = 'privilege'\n",
    "opposites['right']"
   ]
  },
  {
   "cell_type": "markdown",
   "metadata": {
    "slideshow": {
     "slide_type": "slide"
    }
   },
   "source": [
    "# Sparse Matrices\n",
    "\n",
    "- In data analytics, we often deal with sparse matrices\n",
    "    - Sparse matrices refer to the matrices with a lot of `0`s\n",
    "    - we can use a list of lists to represent the matrices\n",
    "    - but this is a waste of resources since `0`s usually contain less value\n",
    "    - the alternative is to use a dictionary for that\n",
    "    \n",
    "$$ \\begin{equation*}\n",
    "\\begin{vmatrix}\n",
    "\\ 0 & 0 & 0 & \\mathbf{1} & 0 \\\\\n",
    "\\ 0 & 0 & 0 & 0 & 0 \\\\\n",
    "\\ 0 & \\mathbf{2} & 0 & 1 & 0 \\\\\n",
    "\\ 0 & 0 & 0 & 0 & 0 \\\\\n",
    "\\ 0 & 0 & 0 & \\mathbf{3} & 0 \\\\\n",
    "\\end{vmatrix}\n",
    "\\end{equation*} $$"
   ]
  },
  {
   "cell_type": "code",
   "execution_count": 29,
   "metadata": {
    "slideshow": {
     "slide_type": "subslide"
    }
   },
   "outputs": [],
   "source": [
    "# following list of lists represent above matrix\n",
    "\n",
    "matrix = [[0, 0, 0, 1, 0],\n",
    "          [0, 0, 0, 0, 0],\n",
    "          [0, 2, 0, 0, 0],\n",
    "          [0, 0, 0, 0, 0],\n",
    "          [0, 0, 0, 3, 0]]\n",
    "\n",
    "\n",
    "# same matrix can be represented using this dictionary\n",
    "matrix = {(0, 3): 1, (2, 1): 2, (4, 3): 3} # all zero values are ignored\n",
    "\n",
    "# comparing to the list method, the dict method only keeps three non-zero values\n",
    "# in the dict method, the keys are the positions (coordinates) of the non-zero values"
   ]
  },
  {
   "cell_type": "code",
   "execution_count": 30,
   "metadata": {
    "slideshow": {
     "slide_type": "subslide"
    }
   },
   "outputs": [
    {
     "data": {
      "text/plain": [
       "1"
      ]
     },
     "execution_count": 30,
     "metadata": {},
     "output_type": "execute_result"
    }
   ],
   "source": [
    "# retrieve non-zero values are easy\n",
    "matrix[(0, 3)]"
   ]
  },
  {
   "cell_type": "code",
   "execution_count": 31,
   "metadata": {
    "slideshow": {
     "slide_type": "subslide"
    }
   },
   "outputs": [
    {
     "ename": "KeyError",
     "evalue": "(1, 3)",
     "output_type": "error",
     "traceback": [
      "\u001b[0;31m---------------------------------------------------------------------------\u001b[0m",
      "\u001b[0;31mKeyError\u001b[0m                                  Traceback (most recent call last)",
      "\u001b[0;32m<ipython-input-31-68b3ae97f7dc>\u001b[0m in \u001b[0;36m<module>\u001b[0;34m\u001b[0m\n\u001b[1;32m      1\u001b[0m \u001b[0;31m# retrieve a zero value will be tricky\u001b[0m\u001b[0;34m\u001b[0m\u001b[0;34m\u001b[0m\u001b[0;34m\u001b[0m\u001b[0m\n\u001b[1;32m      2\u001b[0m \u001b[0;31m# we get the KeyError since there is no such key in the dict\u001b[0m\u001b[0;34m\u001b[0m\u001b[0;34m\u001b[0m\u001b[0;34m\u001b[0m\u001b[0m\n\u001b[0;32m----> 3\u001b[0;31m \u001b[0mmatrix\u001b[0m\u001b[0;34m[\u001b[0m\u001b[0;34m(\u001b[0m\u001b[0;36m1\u001b[0m\u001b[0;34m,\u001b[0m \u001b[0;36m3\u001b[0m\u001b[0;34m)\u001b[0m\u001b[0;34m]\u001b[0m\u001b[0;34m\u001b[0m\u001b[0;34m\u001b[0m\u001b[0m\n\u001b[0m",
      "\u001b[0;31mKeyError\u001b[0m: (1, 3)"
     ]
    }
   ],
   "source": [
    "# retrieve a zero value will be tricky\n",
    "# we get the KeyError since there is no such key in the dict\n",
    "matrix[(1, 3)]"
   ]
  },
  {
   "cell_type": "code",
   "execution_count": 32,
   "metadata": {
    "slideshow": {
     "slide_type": "subslide"
    }
   },
   "outputs": [
    {
     "data": {
      "text/plain": [
       "0"
      ]
     },
     "execution_count": 32,
     "metadata": {},
     "output_type": "execute_result"
    }
   ],
   "source": [
    "# we can always use the `.get()` method for that purpose\n",
    "# the first argument is the key\n",
    "# the second argument is the value should return \n",
    "# if the key is not in the dict\n",
    "matrix.get((1, 3), 0)"
   ]
  },
  {
   "cell_type": "markdown",
   "metadata": {
    "slideshow": {
     "slide_type": "slide"
    }
   },
   "source": [
    "# Creating Dictionaries from Lists\n",
    "\n",
    "- Since dict keys and values are collections, we can create dicts from two lists:\n",
    "    - you will use the `zip()` built-in function\n",
    "        - note that `zip()` takes two arguments for both lists\n",
    "        - the first list will be the key, the second list will be the values\n",
    "        - you need to make sure that the first list does not contain __duplicate__ values"
   ]
  },
  {
   "cell_type": "code",
   "execution_count": 33,
   "metadata": {
    "slideshow": {
     "slide_type": "subslide"
    }
   },
   "outputs": [
    {
     "data": {
      "text/plain": [
       "{'a': 1, 'b': 2, 'c': 3}"
      ]
     },
     "execution_count": 33,
     "metadata": {},
     "output_type": "execute_result"
    }
   ],
   "source": [
    "#Need to know for coding assignment\n",
    "\n",
    "# values\n",
    "lst1 = [1, 2, 3]\n",
    "# keys\n",
    "lst2 = ['a', 'b', 'c']\n",
    "my_dict = dict(zip(lst2, lst1))\n",
    "my_dict\n",
    "\n"
   ]
  },
  {
   "cell_type": "markdown",
   "metadata": {
    "slideshow": {
     "slide_type": "slide"
    }
   },
   "source": [
    "# Your Turn Here\n",
    "Finish exercises below by following instructions of each of them. \n",
    "\n",
    "Make sure you provide proper __pseudo code__ for each of your program."
   ]
  },
  {
   "cell_type": "markdown",
   "metadata": {
    "slideshow": {
     "slide_type": "slide"
    }
   },
   "source": [
    "## Q1. Coding Problem\n",
    "\n",
    "Write a function to calculate the product sales.\n",
    "\n",
    "Example inputs and output:\n",
    "```python\n",
    "price_dict = {'A': 100, 'B': 200, 'C': 300}\n",
    "unit_dict = {'A': 1, 'B': 0, 'C': 5}\n",
    "-> sales_dict = {'A': 100, 'B': 0, 'C': 1500}\n",
    "```"
   ]
  },
  {
   "cell_type": "code",
   "execution_count": 34,
   "metadata": {
    "slideshow": {
     "slide_type": "subslide"
    }
   },
   "outputs": [
    {
     "name": "stdout",
     "output_type": "stream",
     "text": [
      "{'A': 100, 'B': 0, 'C': 1500}\n"
     ]
    }
   ],
   "source": [
    "def product_sales(price_dict, unit_dict):\n",
    "    sales_dict = {}\n",
    "    for key in price_dict.keys():\n",
    "        sales_dict[key] = price_dict[key]*unit_dict[key] #use price dict and unit dict to get get sales\n",
    "        \n",
    "    return sales_dict\n",
    "\n",
    "price_dict = {'A': 100, 'B': 200, 'C': 300}\n",
    "unit_dict = {'A': 1, 'B': 0, 'C': 5}\n",
    "\n",
    "print(product_sales(price_dict, unit_dict))"
   ]
  },
  {
   "cell_type": "markdown",
   "metadata": {
    "slideshow": {
     "slide_type": "slide"
    }
   },
   "source": [
    "## Q2. Coding Problem\n",
    "\n",
    "In cryptography, a *Caesar* cipher is a very simple encryption techniques in which each letter in the plain text is replaced by a letter some fixed number of positions down the alphabet. \n",
    "\n",
    "For example, with a shift of **3**:\n",
    "- A would be replaced by D, \n",
    "- B would become E, and so on. \n",
    "\n",
    "The method is named after Julius Caesar, who used it to communicate with his generals. \n",
    "\n",
    "**ROT-13** (\"rotate by 13 places\") is a widely used example of a Caesar cipher where the shift is _13_. In Python, the key for ROT-13 may be represented by means of the following dictionary:\n",
    "\n",
    "```\n",
    "key = {'a':'n', 'b':'o', 'c':'p', 'd':'q', 'e':'r', 'f':'s', 'g':'t', 'h':'u', \n",
    "       'i':'v', 'j':'w', 'k':'x', 'l':'y', 'm':'z', 'n':'a', 'o':'b', 'p':'c', \n",
    "       'q':'d', 'r':'e', 's':'f', 't':'g', 'u':'h', 'v':'i', 'w':'j', 'x':'k',\n",
    "       'y':'l', 'z':'m', 'A':'N', 'B':'O', 'C':'P', 'D':'Q', 'E':'R', 'F':'S', \n",
    "       'G':'T', 'H':'U', 'I':'V', 'J':'W', 'K':'X', 'L':'Y', 'M':'Z', 'N':'A', \n",
    "       'O':'B', 'P':'C', 'Q':'D', 'R':'E', 'S':'F', 'T':'G', 'U':'H', 'V':'I', \n",
    "       'W':'J', 'X':'K', 'Y':'L', 'Z':'M'}\n",
    "```\n",
    "\n",
    "Your task in this exercise is to implement an encoder/decoder of ROT-13. Once you're done, you will be able to \n",
    "\n",
    "1. Encode the following message: BRAVO! I have created a secret ROT decipher in June 2018!\n",
    "    \n",
    "2. Decode the following secret message: V nqzver lbh, TERNG CLGUBA Znfgre!!! Ubj qvq lbh ohvyq guvf qrpbqre?"
   ]
  },
  {
   "cell_type": "code",
   "execution_count": 61,
   "metadata": {
    "slideshow": {
     "slide_type": "slide"
    }
   },
   "outputs": [
    {
     "name": "stdout",
     "output_type": "stream",
     "text": [
      "OENIB! V unir perngrq n frperg EBG qrpvcure va Whar 2018!\n"
     ]
    }
   ],
   "source": [
    "# input_str\n",
    "# output_str\n",
    "# for a in input_str\n",
    "\n",
    "# output_str = key_dict[c]\n",
    "\n",
    "input_encode = \"BRAVO! I have created a secret ROT decipher in June 2018!\"\n",
    "\n",
    "output_encode = ''\n",
    "\n",
    "key = {'a':'n', 'b':'o', 'c':'p', 'd':'q', 'e':'r', 'f':'s', 'g':'t', 'h':'u', \n",
    "       'i':'v', 'j':'w', 'k':'x', 'l':'y', 'm':'z', 'n':'a', 'o':'b', 'p':'c', \n",
    "       'q':'d', 'r':'e', 's':'f', 't':'g', 'u':'h', 'v':'i', 'w':'j', 'x':'k',\n",
    "       'y':'l', 'z':'m', 'A':'N', 'B':'O', 'C':'P', 'D':'Q', 'E':'R', 'F':'S', \n",
    "       'G':'T', 'H':'U', 'I':'V', 'J':'W', 'K':'X', 'L':'Y', 'M':'Z', 'N':'A', \n",
    "       'O':'B', 'P':'C', 'Q':'D', 'R':'E', 'S':'F', 'T':'G', 'U':'H', 'V':'I', \n",
    "       'W':'J', 'X':'K', 'Y':'L', 'Z':'M'}\n",
    "\n",
    "\n",
    "for c in input_encode:\n",
    "    if c in key:\n",
    "        output_encode += key[c]\n",
    "    else:\n",
    "        output_encode += c\n",
    "\n",
    "print (output_encode)\n",
    "\n",
    "\n",
    "\n",
    "\n",
    "\n",
    "\n",
    "\n"
   ]
  },
  {
   "cell_type": "code",
   "execution_count": 63,
   "metadata": {},
   "outputs": [
    {
     "name": "stdout",
     "output_type": "stream",
     "text": [
      "{'n': 'a', 'o': 'b', 'p': 'c', 'q': 'd', 'r': 'e', 's': 'f', 't': 'g', 'u': 'h', 'v': 'i', 'w': 'j', 'x': 'k', 'y': 'l', 'z': 'm', 'a': 'n', 'b': 'o', 'c': 'p', 'd': 'q', 'e': 'r', 'f': 's', 'g': 't', 'h': 'u', 'i': 'v', 'j': 'w', 'k': 'x', 'l': 'y', 'm': 'z', 'N': 'A', 'O': 'B', 'P': 'C', 'Q': 'D', 'R': 'E', 'S': 'F', 'T': 'G', 'U': 'H', 'V': 'I', 'W': 'J', 'X': 'K', 'Y': 'L', 'Z': 'M', 'A': 'N', 'B': 'O', 'C': 'P', 'D': 'Q', 'E': 'R', 'F': 'S', 'G': 'T', 'H': 'U', 'I': 'V', 'J': 'W', 'K': 'X', 'L': 'Y', 'M': 'Z'}\n"
     ]
    }
   ],
   "source": [
    "reverse_key = {v:k for k, v in key.items()}\n",
    "\n",
    "print (reverse_key)"
   ]
  },
  {
   "cell_type": "code",
   "execution_count": 64,
   "metadata": {},
   "outputs": [
    {
     "name": "stdout",
     "output_type": "stream",
     "text": [
      "I admire you, GREAT PYTHON Master!!! How did you build this decoder?\n"
     ]
    }
   ],
   "source": [
    "input_2 = 'V nqzver lbh, TERNG CLGUBA Znfgre!!! Ubj qvq lbh ohvyq guvf qrpbqre?'\n",
    "\n",
    "output_2 = ''\n",
    "\n",
    "for c in input_2: \n",
    "    if c in reverse_key:\n",
    "        output_2 += key[c]\n",
    "    else: \n",
    "        output_2 += c\n",
    "        \n",
    "print(output_2)\n",
    "    "
   ]
  },
  {
   "cell_type": "markdown",
   "metadata": {
    "slideshow": {
     "slide_type": "slide"
    }
   },
   "source": [
    "![DSB Logo](img/Dolan.jpg)\n",
    "# Python Data Types: Dictionaries\n",
    "## PY4E Chapter 9\n",
    "### How data are stored and processed in Python"
   ]
  },
  {
   "cell_type": "markdown",
   "metadata": {
    "slideshow": {
     "slide_type": "slide"
    }
   },
   "source": [
    "![DSB Logo](img/Dolan.jpg)\n",
    "# Python Data Types: Regular Expressions\n",
    "## PY4E Chapter 11\n",
    "### How do you search data in Python"
   ]
  },
  {
   "cell_type": "markdown",
   "metadata": {
    "slideshow": {
     "slide_type": "slide"
    }
   },
   "source": [
    "# Searching for Patterns in Text\n",
    "\n",
    "- As discussed in chapter 6, Python provides some built-in functions and methods for finding text parts using patterns\n",
    "    - for example, `find()` and `split()`\n",
    "- However, in real world practices, we often deal with pattern extraction much more complicated\n",
    "- Python has a very powerful library called _regular expressions_ that handles many of these tasks quite elegantly\n",
    "    - regular expression is its own programming language\n",
    "    - it is so complicated and has its own syntax - here is a good [reference](https://docs.python.org/library/re.html)"
   ]
  },
  {
   "cell_type": "markdown",
   "metadata": {
    "slideshow": {
     "slide_type": "subslide"
    }
   },
   "source": [
    "# Example\n",
    "\n",
    "- We are dealing with the complete log files like below:\n",
    "    - the log file is in `'./data/mbox.xt'`\n",
    "\n",
    "```\n",
    "From stephen.marquard@uct.ac.za Sat Jan  5 09:14:16 2008\n",
    "Return-Path: <postmaster@collab.sakaiproject.org>\n",
    "Received: from murder (mail.umich.edu [141.211.14.90])\n",
    "\t by frankenstein.mail.umich.edu (Cyrus v2.3.8) with LMTPA;\n",
    "\t Sat, 05 Jan 2008 09:14:16 -0500\n",
    "X-Sieve: CMU Sieve 2.3\n",
    "Received: from murder ([unix socket])\n",
    "\t by mail.umich.edu (Cyrus v2.2.12) with LMTPA;\n",
    "\t Sat, 05 Jan 2008 09:14:16 -0500\n",
    "Received: from holes.mr.itd.umich.edu (holes.mr.itd.umich.edu [141.211.14.79])\n",
    "\tby flawless.mail.umich.edu () with ESMTP id m05EEFR1013674;\n",
    "\tSat, 5 Jan 2008 09:14:15 -0500\n",
    "Received: FROM paploo.uhi.ac.uk (app1.prod.collab.uhi.ac.uk [194.35.219.184])\n",
    "\tBY holes.mr.itd.umich.edu ID 477F90B0.2DB2F.12494 ; \n",
    "\t 5 Jan 2008 09:14:10 -0500\n",
    "Received: from paploo.uhi.ac.uk (localhost [127.0.0.1])\n",
    "\tby paploo.uhi.ac.uk (Postfix) with ESMTP id 5F919BC2F2;\n",
    "\tSat,  5 Jan 2008 14:10:05 +0000 (GMT)\n",
    "Message-ID: <200801051412.m05ECIaH010327@nakamura.uits.iupui.edu>\n",
    "Mime-Version: 1.0\n",
    "```"
   ]
  },
  {
   "cell_type": "code",
   "execution_count": 35,
   "metadata": {
    "slideshow": {
     "slide_type": "subslide"
    }
   },
   "outputs": [
    {
     "ename": "FileNotFoundError",
     "evalue": "[Errno 2] No such file or directory: './data/mbox.txt'",
     "output_type": "error",
     "traceback": [
      "\u001b[0;31m---------------------------------------------------------------------------\u001b[0m",
      "\u001b[0;31mFileNotFoundError\u001b[0m                         Traceback (most recent call last)",
      "\u001b[0;32m<ipython-input-35-c75db4181b8c>\u001b[0m in \u001b[0;36m<module>\u001b[0;34m\u001b[0m\n\u001b[1;32m      6\u001b[0m \u001b[0;31m# we use `with open` so that the file is released when we are done with it\u001b[0m\u001b[0;34m\u001b[0m\u001b[0;34m\u001b[0m\u001b[0;34m\u001b[0m\u001b[0m\n\u001b[1;32m      7\u001b[0m \u001b[0;31m# this is the preferred method\u001b[0m\u001b[0;34m\u001b[0m\u001b[0;34m\u001b[0m\u001b[0;34m\u001b[0m\u001b[0m\n\u001b[0;32m----> 8\u001b[0;31m \u001b[0;32mwith\u001b[0m \u001b[0mopen\u001b[0m\u001b[0;34m(\u001b[0m\u001b[0;34m'./data/mbox.txt'\u001b[0m\u001b[0;34m)\u001b[0m \u001b[0;32mas\u001b[0m \u001b[0mfp\u001b[0m\u001b[0;34m:\u001b[0m\u001b[0;34m\u001b[0m\u001b[0;34m\u001b[0m\u001b[0m\n\u001b[0m\u001b[1;32m      9\u001b[0m     \u001b[0;32mfor\u001b[0m \u001b[0mline\u001b[0m \u001b[0;32min\u001b[0m \u001b[0mfp\u001b[0m\u001b[0;34m:\u001b[0m \u001b[0;31m# this is how you read data line-by-line\u001b[0m\u001b[0;34m\u001b[0m\u001b[0;34m\u001b[0m\u001b[0m\n\u001b[1;32m     10\u001b[0m         \u001b[0mline\u001b[0m \u001b[0;34m=\u001b[0m \u001b[0mline\u001b[0m\u001b[0;34m.\u001b[0m\u001b[0mrstrip\u001b[0m\u001b[0;34m(\u001b[0m\u001b[0;34m)\u001b[0m \u001b[0;31m# standard process of handling text data - strip spaces\u001b[0m\u001b[0;34m\u001b[0m\u001b[0;34m\u001b[0m\u001b[0m\n",
      "\u001b[0;31mFileNotFoundError\u001b[0m: [Errno 2] No such file or directory: './data/mbox.txt'"
     ]
    }
   ],
   "source": [
    "# Our taaks is to extract every line contains 'From'\n",
    "# in essense we are retrieving meta-data from the log files\n",
    "# meta data is data about data - you will learn more about that in BA 510\n",
    "\n",
    "import re\n",
    "# we use `with open` so that the file is released when we are done with it\n",
    "# this is the preferred method\n",
    "with open('./data/mbox.txt') as fp: \n",
    "    for line in fp: # this is how you read data line-by-line\n",
    "        line = line.rstrip() # standard process of handling text data - strip spaces\n",
    "        if re.search('From:', line): # this is similar as the `.find()` method\n",
    "            print(line)"
   ]
  },
  {
   "cell_type": "code",
   "execution_count": 36,
   "metadata": {
    "slideshow": {
     "slide_type": "subslide"
    }
   },
   "outputs": [
    {
     "ename": "FileNotFoundError",
     "evalue": "[Errno 2] No such file or directory: './data/mbox.txt'",
     "output_type": "error",
     "traceback": [
      "\u001b[0;31m---------------------------------------------------------------------------\u001b[0m",
      "\u001b[0;31mFileNotFoundError\u001b[0m                         Traceback (most recent call last)",
      "\u001b[0;32m<ipython-input-36-7fbb8f1fbe8c>\u001b[0m in \u001b[0;36m<module>\u001b[0;34m\u001b[0m\n\u001b[1;32m      4\u001b[0m \u001b[0;32mimport\u001b[0m \u001b[0mre\u001b[0m\u001b[0;34m\u001b[0m\u001b[0;34m\u001b[0m\u001b[0m\n\u001b[1;32m      5\u001b[0m \u001b[0;34m\u001b[0m\u001b[0m\n\u001b[0;32m----> 6\u001b[0;31m \u001b[0;32mwith\u001b[0m \u001b[0mopen\u001b[0m\u001b[0;34m(\u001b[0m\u001b[0;34m'./data/mbox.txt'\u001b[0m\u001b[0;34m)\u001b[0m \u001b[0;32mas\u001b[0m \u001b[0mfp\u001b[0m\u001b[0;34m:\u001b[0m\u001b[0;34m\u001b[0m\u001b[0;34m\u001b[0m\u001b[0m\n\u001b[0m\u001b[1;32m      7\u001b[0m     \u001b[0;32mfor\u001b[0m \u001b[0mline\u001b[0m \u001b[0;32min\u001b[0m \u001b[0mfp\u001b[0m\u001b[0;34m:\u001b[0m\u001b[0;34m\u001b[0m\u001b[0;34m\u001b[0m\u001b[0m\n\u001b[1;32m      8\u001b[0m         \u001b[0mline\u001b[0m \u001b[0;34m=\u001b[0m \u001b[0mline\u001b[0m\u001b[0;34m.\u001b[0m\u001b[0mrstrip\u001b[0m\u001b[0;34m(\u001b[0m\u001b[0;34m)\u001b[0m\u001b[0;34m\u001b[0m\u001b[0;34m\u001b[0m\u001b[0m\n",
      "\u001b[0;31mFileNotFoundError\u001b[0m: [Errno 2] No such file or directory: './data/mbox.txt'"
     ]
    }
   ],
   "source": [
    "# Above example does not show the power of RegEx\n",
    "# We change our taaks as extracting every line starts with 'From'\n",
    "\n",
    "import re\n",
    "\n",
    "with open('./data/mbox.txt') as fp: \n",
    "    for line in fp: \n",
    "        line = line.rstrip() \n",
    "        # we use the carat sign (`^`) before 'From:'\n",
    "        # to extract \n",
    "        if re.search('^From:', line): # this is equivalently with the `.startswith()` method\n",
    "            print(line)"
   ]
  },
  {
   "cell_type": "markdown",
   "metadata": {
    "slideshow": {
     "slide_type": "slide"
    }
   },
   "source": [
    "# Making RegEx more Powerful\n",
    "\n",
    "- So far our use of RegEx is fairly basic, now we can look at some advanced functions\n",
    "    - we can use period (`.`) to match any character\n",
    "        - e.g. `Fairfi..d` can match `Fairfield`, `Fairfi12d`, ...\n",
    "        \n",
    "    - we can combine period (`.`) with other wild cards, such as `*` and `+`\n",
    "        - `+` means _one or more_\n",
    "        - `*` means _zero or more_\n",
    "        - Note that `+` and `*` are _greedy_ - they try to match everything they can"
   ]
  },
  {
   "cell_type": "code",
   "execution_count": 37,
   "metadata": {
    "slideshow": {
     "slide_type": "subslide"
    }
   },
   "outputs": [
    {
     "ename": "FileNotFoundError",
     "evalue": "[Errno 2] No such file or directory: './data/mbox.txt'",
     "output_type": "error",
     "traceback": [
      "\u001b[0;31m---------------------------------------------------------------------------\u001b[0m",
      "\u001b[0;31mFileNotFoundError\u001b[0m                         Traceback (most recent call last)",
      "\u001b[0;32m<ipython-input-37-e04accde2414>\u001b[0m in \u001b[0;36m<module>\u001b[0;34m\u001b[0m\n\u001b[0;32m----> 1\u001b[0;31m \u001b[0;32mwith\u001b[0m \u001b[0mopen\u001b[0m\u001b[0;34m(\u001b[0m\u001b[0;34m'./data/mbox.txt'\u001b[0m\u001b[0;34m)\u001b[0m \u001b[0;32mas\u001b[0m \u001b[0mfp\u001b[0m\u001b[0;34m:\u001b[0m\u001b[0;34m\u001b[0m\u001b[0;34m\u001b[0m\u001b[0m\n\u001b[0m\u001b[1;32m      2\u001b[0m     \u001b[0;32mfor\u001b[0m \u001b[0mline\u001b[0m \u001b[0;32min\u001b[0m \u001b[0mfp\u001b[0m\u001b[0;34m:\u001b[0m\u001b[0;34m\u001b[0m\u001b[0;34m\u001b[0m\u001b[0m\n\u001b[1;32m      3\u001b[0m         \u001b[0mline\u001b[0m \u001b[0;34m=\u001b[0m \u001b[0mline\u001b[0m\u001b[0;34m.\u001b[0m\u001b[0mrstrip\u001b[0m\u001b[0;34m(\u001b[0m\u001b[0;34m)\u001b[0m\u001b[0;34m\u001b[0m\u001b[0;34m\u001b[0m\u001b[0m\n\u001b[1;32m      4\u001b[0m         \u001b[0;32mif\u001b[0m \u001b[0mre\u001b[0m\u001b[0;34m.\u001b[0m\u001b[0msearch\u001b[0m\u001b[0;34m(\u001b[0m\u001b[0;34m'^F..m:'\u001b[0m\u001b[0;34m,\u001b[0m \u001b[0mline\u001b[0m\u001b[0;34m)\u001b[0m\u001b[0;34m:\u001b[0m \u001b[0;31m# use `.` replace any character\u001b[0m\u001b[0;34m\u001b[0m\u001b[0;34m\u001b[0m\u001b[0m\n\u001b[1;32m      5\u001b[0m             \u001b[0mprint\u001b[0m\u001b[0;34m(\u001b[0m\u001b[0mline\u001b[0m\u001b[0;34m)\u001b[0m\u001b[0;34m\u001b[0m\u001b[0;34m\u001b[0m\u001b[0m\n",
      "\u001b[0;31mFileNotFoundError\u001b[0m: [Errno 2] No such file or directory: './data/mbox.txt'"
     ]
    }
   ],
   "source": [
    "with open('./data/mbox.txt') as fp: \n",
    "    for line in fp: \n",
    "        line = line.rstrip() \n",
    "        if re.search('^F..m:', line): # use `.` replace any character\n",
    "            print(line)"
   ]
  },
  {
   "cell_type": "code",
   "execution_count": 38,
   "metadata": {
    "slideshow": {
     "slide_type": "subslide"
    }
   },
   "outputs": [
    {
     "ename": "FileNotFoundError",
     "evalue": "[Errno 2] No such file or directory: './data/mbox.txt'",
     "output_type": "error",
     "traceback": [
      "\u001b[0;31m---------------------------------------------------------------------------\u001b[0m",
      "\u001b[0;31mFileNotFoundError\u001b[0m                         Traceback (most recent call last)",
      "\u001b[0;32m<ipython-input-38-f12cea70b8c3>\u001b[0m in \u001b[0;36m<module>\u001b[0;34m\u001b[0m\n\u001b[0;32m----> 1\u001b[0;31m \u001b[0;32mwith\u001b[0m \u001b[0mopen\u001b[0m\u001b[0;34m(\u001b[0m\u001b[0;34m'./data/mbox.txt'\u001b[0m\u001b[0;34m)\u001b[0m \u001b[0;32mas\u001b[0m \u001b[0mfp\u001b[0m\u001b[0;34m:\u001b[0m\u001b[0;34m\u001b[0m\u001b[0;34m\u001b[0m\u001b[0m\n\u001b[0m\u001b[1;32m      2\u001b[0m     \u001b[0;32mfor\u001b[0m \u001b[0mline\u001b[0m \u001b[0;32min\u001b[0m \u001b[0mfp\u001b[0m\u001b[0;34m:\u001b[0m\u001b[0;34m\u001b[0m\u001b[0;34m\u001b[0m\u001b[0m\n\u001b[1;32m      3\u001b[0m         \u001b[0mline\u001b[0m \u001b[0;34m=\u001b[0m \u001b[0mline\u001b[0m\u001b[0;34m.\u001b[0m\u001b[0mrstrip\u001b[0m\u001b[0;34m(\u001b[0m\u001b[0;34m)\u001b[0m\u001b[0;34m\u001b[0m\u001b[0;34m\u001b[0m\u001b[0m\n\u001b[1;32m      4\u001b[0m         \u001b[0;31m# use `.+@` replace one or more character contains '@' as well\u001b[0m\u001b[0;34m\u001b[0m\u001b[0;34m\u001b[0m\u001b[0;34m\u001b[0m\u001b[0m\n\u001b[1;32m      5\u001b[0m         \u001b[0;32mif\u001b[0m \u001b[0mre\u001b[0m\u001b[0;34m.\u001b[0m\u001b[0msearch\u001b[0m\u001b[0;34m(\u001b[0m\u001b[0;34m'From:.+@'\u001b[0m\u001b[0;34m,\u001b[0m \u001b[0mline\u001b[0m\u001b[0;34m)\u001b[0m\u001b[0;34m:\u001b[0m \u001b[0;31m# note that '@' is a character not a RegEx special character\u001b[0m\u001b[0;34m\u001b[0m\u001b[0;34m\u001b[0m\u001b[0m\n",
      "\u001b[0;31mFileNotFoundError\u001b[0m: [Errno 2] No such file or directory: './data/mbox.txt'"
     ]
    }
   ],
   "source": [
    "with open('./data/mbox.txt') as fp: \n",
    "    for line in fp: \n",
    "        line = line.rstrip() \n",
    "        # use `.+@` replace one or more character contains '@' as well\n",
    "        if re.search('From:.+@', line): # note that '@' is a character not a RegEx special character\n",
    "            print(line)"
   ]
  },
  {
   "cell_type": "markdown",
   "metadata": {
    "slideshow": {
     "slide_type": "slide"
    }
   },
   "source": [
    "# Extract Multiple Sub-strings from Text\n",
    "\n",
    "- Sometimes a particular substring of text may appear several times in text\n",
    "    - it is important to extract all occurrences of it\n",
    "    - also, we may want to store them in a _list_ for future use\n",
    "    - see example below"
   ]
  },
  {
   "cell_type": "code",
   "execution_count": 39,
   "metadata": {
    "slideshow": {
     "slide_type": "subslide"
    }
   },
   "outputs": [
    {
     "name": "stdout",
     "output_type": "stream",
     "text": [
      "['csev@umich.edu', 'cwen@iupui.edu']\n"
     ]
    }
   ],
   "source": [
    "s = 'A message from csev@umich.edu to cwen@iupui.edu about meeting @2PM'\n",
    "# RegEx used below is `\\S+@\\S+`\n",
    "# `\\S+` means at least one non-white space character\n",
    "lst = re.findall('\\S+@\\S+', s)\n",
    "print(lst)"
   ]
  },
  {
   "cell_type": "markdown",
   "metadata": {
    "slideshow": {
     "slide_type": "subslide"
    }
   },
   "source": [
    "# Your Turn Here\n",
    "\n",
    "Use your understanding of the RegEx used above to explain why `'@2PM'` is not extracted."
   ]
  },
  {
   "cell_type": "code",
   "execution_count": 40,
   "metadata": {
    "slideshow": {
     "slide_type": "slide"
    }
   },
   "outputs": [
    {
     "ename": "FileNotFoundError",
     "evalue": "[Errno 2] No such file or directory: './data/mbox.txt'",
     "output_type": "error",
     "traceback": [
      "\u001b[0;31m---------------------------------------------------------------------------\u001b[0m",
      "\u001b[0;31mFileNotFoundError\u001b[0m                         Traceback (most recent call last)",
      "\u001b[0;32m<ipython-input-40-40d4777a30a6>\u001b[0m in \u001b[0;36m<module>\u001b[0;34m\u001b[0m\n\u001b[1;32m      2\u001b[0m \u001b[0;31m# can we use it on the log file as above?\u001b[0m\u001b[0;34m\u001b[0m\u001b[0;34m\u001b[0m\u001b[0;34m\u001b[0m\u001b[0m\n\u001b[1;32m      3\u001b[0m \u001b[0;34m\u001b[0m\u001b[0m\n\u001b[0;32m----> 4\u001b[0;31m \u001b[0;32mwith\u001b[0m \u001b[0mopen\u001b[0m\u001b[0;34m(\u001b[0m\u001b[0;34m'./data/mbox.txt'\u001b[0m\u001b[0;34m)\u001b[0m \u001b[0;32mas\u001b[0m \u001b[0mfp\u001b[0m\u001b[0;34m:\u001b[0m\u001b[0;34m\u001b[0m\u001b[0;34m\u001b[0m\u001b[0m\n\u001b[0m\u001b[1;32m      5\u001b[0m     \u001b[0;32mfor\u001b[0m \u001b[0mline\u001b[0m \u001b[0;32min\u001b[0m \u001b[0mfp\u001b[0m\u001b[0;34m:\u001b[0m\u001b[0;34m\u001b[0m\u001b[0;34m\u001b[0m\u001b[0m\n\u001b[1;32m      6\u001b[0m         \u001b[0mline\u001b[0m \u001b[0;34m=\u001b[0m \u001b[0mline\u001b[0m\u001b[0;34m.\u001b[0m\u001b[0mrstrip\u001b[0m\u001b[0;34m(\u001b[0m\u001b[0;34m)\u001b[0m\u001b[0;34m\u001b[0m\u001b[0;34m\u001b[0m\u001b[0m\n",
      "\u001b[0;31mFileNotFoundError\u001b[0m: [Errno 2] No such file or directory: './data/mbox.txt'"
     ]
    }
   ],
   "source": [
    "# Now since we have a working Email extractor\n",
    "# can we use it on the log file as above?\n",
    "\n",
    "with open('./data/mbox.txt') as fp: \n",
    "    for line in fp: \n",
    "        line = line.rstrip() \n",
    "        x = re.findall('\\S+@\\S+', line)  # this is our email extractor\n",
    "        if len(x) > 0: # if anything is returned then print out\n",
    "            print(x)\n"
   ]
  },
  {
   "cell_type": "markdown",
   "metadata": {
    "slideshow": {
     "slide_type": "slide"
    }
   },
   "source": [
    "# Fine-tuning Your Match\n",
    "\n",
    "- From above results we see some Email addresses are successfully extracted\n",
    "- But a lot of incorrect results\n",
    "    - for instance, Email addresses contain '<' or ';'\n",
    "    - so we only care about legit Email addresses \n",
    "        - legit Email addresses starts with letters or numbers\n",
    "    - we can use a new RegEx for that\n",
    "        - `[a-zA-Z0-9]` means a __single__ _lowercase letter_, _uppercase letter_ or _number_ at the __beginning__ of the substring for match\n",
    "        \n",
    "```\n",
    "[a-zA-Z0-9]\\S*@\\S*[a-zA-Z]\n",
    "```"
   ]
  },
  {
   "cell_type": "code",
   "execution_count": 41,
   "metadata": {
    "slideshow": {
     "slide_type": "subslide"
    }
   },
   "outputs": [
    {
     "ename": "FileNotFoundError",
     "evalue": "[Errno 2] No such file or directory: './data/mbox.txt'",
     "output_type": "error",
     "traceback": [
      "\u001b[0;31m---------------------------------------------------------------------------\u001b[0m",
      "\u001b[0;31mFileNotFoundError\u001b[0m                         Traceback (most recent call last)",
      "\u001b[0;32m<ipython-input-41-bb41d1a00eb9>\u001b[0m in \u001b[0;36m<module>\u001b[0;34m\u001b[0m\n\u001b[1;32m      1\u001b[0m \u001b[0;31m# Now the results look much better\u001b[0m\u001b[0;34m\u001b[0m\u001b[0;34m\u001b[0m\u001b[0;34m\u001b[0m\u001b[0m\n\u001b[1;32m      2\u001b[0m \u001b[0;34m\u001b[0m\u001b[0m\n\u001b[0;32m----> 3\u001b[0;31m \u001b[0;32mwith\u001b[0m \u001b[0mopen\u001b[0m\u001b[0;34m(\u001b[0m\u001b[0;34m'./data/mbox.txt'\u001b[0m\u001b[0;34m)\u001b[0m \u001b[0;32mas\u001b[0m \u001b[0mfp\u001b[0m\u001b[0;34m:\u001b[0m\u001b[0;34m\u001b[0m\u001b[0;34m\u001b[0m\u001b[0m\n\u001b[0m\u001b[1;32m      4\u001b[0m     \u001b[0;32mfor\u001b[0m \u001b[0mline\u001b[0m \u001b[0;32min\u001b[0m \u001b[0mfp\u001b[0m\u001b[0;34m:\u001b[0m\u001b[0;34m\u001b[0m\u001b[0;34m\u001b[0m\u001b[0m\n\u001b[1;32m      5\u001b[0m         \u001b[0mline\u001b[0m \u001b[0;34m=\u001b[0m \u001b[0mline\u001b[0m\u001b[0;34m.\u001b[0m\u001b[0mrstrip\u001b[0m\u001b[0;34m(\u001b[0m\u001b[0;34m)\u001b[0m\u001b[0;34m\u001b[0m\u001b[0;34m\u001b[0m\u001b[0m\n",
      "\u001b[0;31mFileNotFoundError\u001b[0m: [Errno 2] No such file or directory: './data/mbox.txt'"
     ]
    }
   ],
   "source": [
    "# Now the results look much better\n",
    "\n",
    "with open('./data/mbox.txt') as fp: \n",
    "    for line in fp: \n",
    "        line = line.rstrip() \n",
    "        x = re.findall('[a-zA-Z0-9]\\S*@\\S*[a-zA-Z]', line)  # this is our email extractor\n",
    "        if len(x) > 0: # if anything is returned then print out\n",
    "            print(x)"
   ]
  },
  {
   "cell_type": "markdown",
   "metadata": {
    "slideshow": {
     "slide_type": "subslide"
    }
   },
   "source": [
    "# Your Turn Here\n",
    "\n",
    "Now observe the results, and comparing the results we got before, do you see the improvements?"
   ]
  },
  {
   "cell_type": "markdown",
   "metadata": {
    "slideshow": {
     "slide_type": "slide"
    }
   },
   "source": [
    "# More Complicated Use Cases\n",
    "\n",
    "- In data analytics, there is an important task when we collecting data from different data sources\n",
    "    - this task belongs in a larger task called _ETL_ (extract, transform, load)\n",
    "        - you will learn about it in BA 510\n",
    "    - We can actively use RegEx to search and extract useful data from text data sources\n",
    "    - for instance, how about extracting substrings such as:\n",
    "        - can you look at below examples and find out the pattern(s)?\n",
    "    \n",
    "```\n",
    "X-DSPAM-Confidence: 0.8475\n",
    "X-DSPAM-Probability: 0.0000\n",
    "```"
   ]
  },
  {
   "cell_type": "code",
   "execution_count": 42,
   "metadata": {
    "slideshow": {
     "slide_type": "subslide"
    }
   },
   "outputs": [
    {
     "ename": "FileNotFoundError",
     "evalue": "[Errno 2] No such file or directory: './data/mbox.txt'",
     "output_type": "error",
     "traceback": [
      "\u001b[0;31m---------------------------------------------------------------------------\u001b[0m",
      "\u001b[0;31mFileNotFoundError\u001b[0m                         Traceback (most recent call last)",
      "\u001b[0;32m<ipython-input-42-0bb2676e362d>\u001b[0m in \u001b[0;36m<module>\u001b[0;34m\u001b[0m\n\u001b[1;32m      5\u001b[0m \u001b[0;31m# The number can include a decimal.\u001b[0m\u001b[0;34m\u001b[0m\u001b[0;34m\u001b[0m\u001b[0;34m\u001b[0m\u001b[0m\n\u001b[1;32m      6\u001b[0m \u001b[0;34m\u001b[0m\u001b[0m\n\u001b[0;32m----> 7\u001b[0;31m \u001b[0;32mwith\u001b[0m \u001b[0mopen\u001b[0m\u001b[0;34m(\u001b[0m\u001b[0;34m'./data/mbox.txt'\u001b[0m\u001b[0;34m)\u001b[0m \u001b[0;32mas\u001b[0m \u001b[0mfp\u001b[0m\u001b[0;34m:\u001b[0m\u001b[0;34m\u001b[0m\u001b[0;34m\u001b[0m\u001b[0m\n\u001b[0m\u001b[1;32m      8\u001b[0m     \u001b[0;32mfor\u001b[0m \u001b[0mline\u001b[0m \u001b[0;32min\u001b[0m \u001b[0mfp\u001b[0m\u001b[0;34m:\u001b[0m\u001b[0;34m\u001b[0m\u001b[0;34m\u001b[0m\u001b[0m\n\u001b[1;32m      9\u001b[0m         \u001b[0mline\u001b[0m \u001b[0;34m=\u001b[0m \u001b[0mline\u001b[0m\u001b[0;34m.\u001b[0m\u001b[0mrstrip\u001b[0m\u001b[0;34m(\u001b[0m\u001b[0;34m)\u001b[0m\u001b[0;34m\u001b[0m\u001b[0;34m\u001b[0m\u001b[0m\n",
      "\u001b[0;31mFileNotFoundError\u001b[0m: [Errno 2] No such file or directory: './data/mbox.txt'"
     ]
    }
   ],
   "source": [
    "# we can use this RegEx for pattern matching `^X\\S*: [0-9.]+`\n",
    "# Search for lines that start with 'X' followed by any non\n",
    "# whitespace characters and ':'\n",
    "# followed by a space and any number.\n",
    "# The number can include a decimal.\n",
    "\n",
    "with open('./data/mbox.txt') as fp: \n",
    "    for line in fp: \n",
    "        line = line.rstrip() \n",
    "        if re.search('^X\\S*: [0-9.]+', line):\n",
    "            print(line)\n",
    "        "
   ]
  },
  {
   "cell_type": "markdown",
   "metadata": {
    "slideshow": {
     "slide_type": "slide"
    }
   },
   "source": [
    "# More Complicated Use Cases\n",
    "\n",
    "- You can see from above results that we suceesfully extracted the data items we needed\n",
    "    - for instance we can convert above results to a list of dicts, then we can further use it\n",
    "- But we can move one step further by just retrieving the numerical values from above results\n",
    "    - see below example"
   ]
  },
  {
   "cell_type": "code",
   "execution_count": 45,
   "metadata": {
    "slideshow": {
     "slide_type": "subslide"
    }
   },
   "outputs": [
    {
     "ename": "FileNotFoundError",
     "evalue": "[Errno 2] No such file or directory: './data/mbox.txt'",
     "output_type": "error",
     "traceback": [
      "\u001b[0;31m---------------------------------------------------------------------------\u001b[0m",
      "\u001b[0;31mFileNotFoundError\u001b[0m                         Traceback (most recent call last)",
      "\u001b[0;32m<ipython-input-45-b7c9181d90e6>\u001b[0m in \u001b[0;36m<module>\u001b[0;34m\u001b[0m\n\u001b[0;32m----> 1\u001b[0;31m \u001b[0;32mwith\u001b[0m \u001b[0mopen\u001b[0m\u001b[0;34m(\u001b[0m\u001b[0;34m'./data/mbox.txt'\u001b[0m\u001b[0;34m)\u001b[0m \u001b[0;32mas\u001b[0m \u001b[0mfp\u001b[0m\u001b[0;34m:\u001b[0m\u001b[0;34m\u001b[0m\u001b[0;34m\u001b[0m\u001b[0m\n\u001b[0m\u001b[1;32m      2\u001b[0m     \u001b[0;32mfor\u001b[0m \u001b[0mline\u001b[0m \u001b[0;32min\u001b[0m \u001b[0mfp\u001b[0m\u001b[0;34m:\u001b[0m\u001b[0;34m\u001b[0m\u001b[0;34m\u001b[0m\u001b[0m\n\u001b[1;32m      3\u001b[0m         \u001b[0mline\u001b[0m \u001b[0;34m=\u001b[0m \u001b[0mline\u001b[0m\u001b[0;34m.\u001b[0m\u001b[0mrstrip\u001b[0m\u001b[0;34m(\u001b[0m\u001b[0;34m)\u001b[0m\u001b[0;34m\u001b[0m\u001b[0;34m\u001b[0m\u001b[0m\n\u001b[1;32m      4\u001b[0m         \u001b[0;31m# the key different is the `()` we added around the numbers\u001b[0m\u001b[0;34m\u001b[0m\u001b[0;34m\u001b[0m\u001b[0;34m\u001b[0m\u001b[0m\n\u001b[1;32m      5\u001b[0m         \u001b[0;31m# which means we only care about this part of data\u001b[0m\u001b[0;34m\u001b[0m\u001b[0;34m\u001b[0m\u001b[0;34m\u001b[0m\u001b[0m\n",
      "\u001b[0;31mFileNotFoundError\u001b[0m: [Errno 2] No such file or directory: './data/mbox.txt'"
     ]
    }
   ],
   "source": [
    "with open('./data/mbox.txt') as fp: \n",
    "    for line in fp: \n",
    "        line = line.rstrip() \n",
    "        # the key different is the `()` we added around the numbers\n",
    "        # which means we only care about this part of data\n",
    "        x = re.findall('^X\\S*: ([0-9.]+)', line) \n",
    "        # even though the extracted data items are strings not floating numbers\n",
    "        # and they are single items in lists, we still extracted the data we wanted\n",
    "        if len(x) > 0:\n",
    "            print(x)"
   ]
  },
  {
   "cell_type": "markdown",
   "metadata": {
    "slideshow": {
     "slide_type": "subslide"
    }
   },
   "source": [
    "# Your Turn Here\n",
    "\n",
    "Can you fix above code so that we can get a __single__ list of float point numbers as items?"
   ]
  },
  {
   "cell_type": "code",
   "execution_count": 46,
   "metadata": {
    "slideshow": {
     "slide_type": "subslide"
    }
   },
   "outputs": [
    {
     "ename": "FileNotFoundError",
     "evalue": "[Errno 2] No such file or directory: './data/mbox.txt'",
     "output_type": "error",
     "traceback": [
      "\u001b[0;31m---------------------------------------------------------------------------\u001b[0m",
      "\u001b[0;31mFileNotFoundError\u001b[0m                         Traceback (most recent call last)",
      "\u001b[0;32m<ipython-input-46-8b7c9340fc63>\u001b[0m in \u001b[0;36m<module>\u001b[0;34m\u001b[0m\n\u001b[0;32m----> 1\u001b[0;31m \u001b[0;32mwith\u001b[0m \u001b[0mopen\u001b[0m\u001b[0;34m(\u001b[0m\u001b[0;34m'./data/mbox.txt'\u001b[0m\u001b[0;34m)\u001b[0m \u001b[0;32mas\u001b[0m \u001b[0mfp\u001b[0m\u001b[0;34m:\u001b[0m\u001b[0;34m\u001b[0m\u001b[0;34m\u001b[0m\u001b[0m\n\u001b[0m\u001b[1;32m      2\u001b[0m     \u001b[0mfloat_lst\u001b[0m \u001b[0;34m=\u001b[0m \u001b[0;34m[\u001b[0m\u001b[0;34m]\u001b[0m\u001b[0;34m\u001b[0m\u001b[0;34m\u001b[0m\u001b[0m\n\u001b[1;32m      3\u001b[0m     \u001b[0;32mfor\u001b[0m \u001b[0mline\u001b[0m \u001b[0;32min\u001b[0m \u001b[0mfp\u001b[0m\u001b[0;34m:\u001b[0m\u001b[0;34m\u001b[0m\u001b[0;34m\u001b[0m\u001b[0m\n\u001b[1;32m      4\u001b[0m         \u001b[0mline\u001b[0m \u001b[0;34m=\u001b[0m \u001b[0mline\u001b[0m\u001b[0;34m.\u001b[0m\u001b[0mrstrip\u001b[0m\u001b[0;34m(\u001b[0m\u001b[0;34m)\u001b[0m\u001b[0;34m\u001b[0m\u001b[0;34m\u001b[0m\u001b[0m\n\u001b[1;32m      5\u001b[0m         \u001b[0;31m#add parenthesis around the numbers to emphasize that part of data\u001b[0m\u001b[0;34m\u001b[0m\u001b[0;34m\u001b[0m\u001b[0;34m\u001b[0m\u001b[0m\n",
      "\u001b[0;31mFileNotFoundError\u001b[0m: [Errno 2] No such file or directory: './data/mbox.txt'"
     ]
    }
   ],
   "source": [
    "with open('./data/mbox.txt') as fp:\n",
    "    float_lst = []\n",
    "    for line in fp:\n",
    "        line = line.rstrip()\n",
    "        #add parenthesis around the numbers to emphasize that part of data\n",
    "        x = re.findall('^X\\S*: ([0-9.])+)',line)\n",
    "        #extract the data as str\n",
    "        if len(x) > 0:\n",
    "            float_lst.append(x)\n",
    "        "
   ]
  },
  {
   "cell_type": "markdown",
   "metadata": {
    "slideshow": {
     "slide_type": "slide"
    }
   },
   "source": [
    "# More Complicated Use Cases\n",
    "\n",
    "- Please read PY4E pp. 134 - 135 for more illustrational cases."
   ]
  },
  {
   "cell_type": "markdown",
   "metadata": {
    "slideshow": {
     "slide_type": "slide"
    }
   },
   "source": [
    "# Escape Character\n",
    "\n",
    "- In RegEx we use special characters to match the specific parts of the line\n",
    "    - for instance, `+` or `*` or `$`\n",
    "    - however, some times we need to search for these characters\n",
    "        - Without their specific meaning\n",
    "    - we can use the escape character `\\`"
   ]
  },
  {
   "cell_type": "code",
   "execution_count": 15,
   "metadata": {
    "slideshow": {
     "slide_type": "subslide"
    }
   },
   "outputs": [
    {
     "name": "stdout",
     "output_type": "stream",
     "text": [
      "['$10.00']\n"
     ]
    }
   ],
   "source": [
    "x = 'We just received $10.00 for cookies.'\n",
    "y = re.findall('\\$[0-9.]+',x) # look at the `\\` we used before `$` to search for `$10.00`\n",
    "print(y)"
   ]
  },
  {
   "cell_type": "markdown",
   "metadata": {
    "slideshow": {
     "slide_type": "slide"
    }
   },
   "source": [
    "# Use RegEx to Replace Substring\n",
    "\n",
    "- In strings, we can use the `.replace()` method to replace part of the string\n",
    "    - however, so far `.replace()` can only use exact match\n",
    "- Now with the power of RegEx, we can match more powerfully\n",
    "    - you can embed RegEx in the `.replace()` method \n",
    "    - or you can use the `re.sub()` method"
   ]
  },
  {
   "cell_type": "code",
   "execution_count": 16,
   "metadata": {
    "slideshow": {
     "slide_type": "subslide"
    }
   },
   "outputs": [
    {
     "data": {
      "text/plain": [
       "'In the year 2012, XYZ company spend $1 million on their new product line.'"
      ]
     },
     "execution_count": 16,
     "metadata": {},
     "output_type": "execute_result"
    }
   ],
   "source": [
    "# Exact match using replace\n",
    "my_str = 'In the year 2012, ABC company spend $1 million on their new product line.'\n",
    "my_str.replace('ABC', 'XYZ')"
   ]
  },
  {
   "cell_type": "code",
   "execution_count": 19,
   "metadata": {
    "slideshow": {
     "slide_type": "subslide"
    }
   },
   "outputs": [
    {
     "data": {
      "text/plain": [
       "'In the year YEAR, ABC company spend $1 million on their new product line.'"
      ]
     },
     "execution_count": 19,
     "metadata": {},
     "output_type": "execute_result"
    }
   ],
   "source": [
    "# Now let's search and replace strings\n",
    "# `re.sub()` takes three arguments\n",
    "# first is the RegEx you want to search\n",
    "# second is the string/variable/function you want to replace with \n",
    "# third is the string you want to search\n",
    "# Note we use the `r` prefix to indicate a RegEx\n",
    "re.sub(r'[1-3][0-9]{3}', 'YEAR', my_str)"
   ]
  },
  {
   "cell_type": "markdown",
   "metadata": {
    "slideshow": {
     "slide_type": "slide"
    }
   },
   "source": [
    "# Summary\n",
    "\n",
    "- Refer to PY4E pp. 136 - 137 for a quick summary of useful RegEx."
   ]
  },
  {
   "cell_type": "markdown",
   "metadata": {
    "slideshow": {
     "slide_type": "slide"
    }
   },
   "source": [
    "# Your Turn Here\n",
    "Finish exercises below by following instructions of each of them. \n",
    "\n",
    "Make sure you provide proper __pseudo code__ for each of your program."
   ]
  },
  {
   "cell_type": "markdown",
   "metadata": {
    "slideshow": {
     "slide_type": "slide"
    }
   },
   "source": [
    "## Q1. Coding Problem\n",
    "\n",
    "Write a function to remove leading zeros from any number.\n",
    "- Take user input for a multi-digit number;\n",
    "    - if the number leads with (multiple) zero(es), remove the zero(es) and return the remainder of the number\n",
    "    - if the number does not lead with zero, return the number."
   ]
  },
  {
   "cell_type": "code",
   "execution_count": 48,
   "metadata": {
    "slideshow": {
     "slide_type": "subslide"
    }
   },
   "outputs": [
    {
     "name": "stdout",
     "output_type": "stream",
     "text": [
      "10\n",
      "10\n"
     ]
    }
   ],
   "source": [
    "def remove_zeros(num):\n",
    "    num = re.sub(r'\\b0+(\\d)',r'\\1',num)\n",
    "    \n",
    "    return num\n",
    "\n",
    "print(remove_zeros(\"00010\"))\n",
    "print(remove_zeros(\"10\"))"
   ]
  },
  {
   "cell_type": "markdown",
   "metadata": {
    "slideshow": {
     "slide_type": "slide"
    }
   },
   "source": [
    "## Q2. Coding Problem\n",
    "\n",
    "When you register for some websites, you may have noticed that the website will detect if the phone number or Email address you entered are legitimate. In this exercise you will need to write a function using __RegEx__ to detect if a(n) phone number or Email address is legitimate. \n",
    "- Legitimate phone numbers follow this format: `(xxx)xxx-xxxx`. In which `x` is any number between 0 - 9.\n",
    "    - note that the parentheses `()` and dash `-` are required.\n",
    "    - also note the digits separated by the symbols.\n",
    "\n",
    "- Legitimate Email addresses follow below rules:\n",
    "    - it starts with a lowercase letter, uppercase letter, or a number\n",
    "    - it contains an `@` symbol - also, there should be non-whitespace characters before and after `@`\n",
    "    - after `@` symbol, it should also contain a period `.`.\n"
   ]
  },
  {
   "cell_type": "code",
   "execution_count": 49,
   "metadata": {
    "slideshow": {
     "slide_type": "subslide"
    }
   },
   "outputs": [
    {
     "name": "stdout",
     "output_type": "stream",
     "text": [
      "Legitmiate Phone No.\n"
     ]
    }
   ],
   "source": [
    "def check_email(email):\n",
    "    regex = '^\\w+([\\.-]?\\w+)*@\\w+([\\.-]?\\w+)*(\\.\\w{2,3})+$' #use regex to define legitimate email\n",
    "    if(re.search(regex, email)):\n",
    "        print(\"Legitimate Email\")\n",
    "    else:\n",
    "        print(\"Invalid Email\")\n",
    "\n",
    "def check_number(phone):\n",
    "    regex = re.compile(\"[0-9][0-9][0-9]?[0-9][0-9][0-9]-[0-9][0-9][0-9][0-9]\") #define a legit phone number\n",
    "    if (re.search(regex, phone)):\n",
    "        print(\"Legitimate Phone No.\")\n",
    "    else: \n",
    "        print(\"Legitmiate Phone No.\")\n",
    "\n",
    "check_number(\"(191)999-9999\")"
   ]
  },
  {
   "cell_type": "markdown",
   "metadata": {
    "slideshow": {
     "slide_type": "slide"
    }
   },
   "source": [
    "# Classwork (start here in class)\n",
    "You can start working on them right now:\n",
    "- Read Chapter 9 and 11 in PY4E\n",
    "- If time permits, start in on your homework. \n",
    "- Ask questions when you need help. Use this time to get help from the professor!\n",
    "\n",
    "# Homework (do at home)\n",
    "The following is due before class next week:\n",
    "  - Any remaining classwork from tonight\n",
    "  - Data Camp “Regular Expressions for Pattern Matching” assignment \n",
    "\n",
    "Note: All work on Data Camp is logged. Don't try to fake it!\n",
    "\n",
    "Please email jtao@fairfield.edu if you have any problems or questions."
   ]
  },
  {
   "cell_type": "markdown",
   "metadata": {
    "slideshow": {
     "slide_type": "slide"
    }
   },
   "source": [
    "![DSB Logo](img/Dolan.jpg)\n",
    "# Python Data Types: Regular Expressions\n",
    "## PY4E Chapter 11\n",
    "### How do you search data in Python"
   ]
  },
  {
   "cell_type": "code",
   "execution_count": null,
   "metadata": {},
   "outputs": [],
   "source": []
  }
 ],
 "metadata": {
  "celltoolbar": "Slideshow",
  "kernelspec": {
   "display_name": "Python 3",
   "language": "python",
   "name": "python3"
  },
  "language_info": {
   "codemirror_mode": {
    "name": "ipython",
    "version": 3
   },
   "file_extension": ".py",
   "mimetype": "text/x-python",
   "name": "python",
   "nbconvert_exporter": "python",
   "pygments_lexer": "ipython3",
   "version": "3.6.7"
  }
 },
 "nbformat": 4,
 "nbformat_minor": 2
}
