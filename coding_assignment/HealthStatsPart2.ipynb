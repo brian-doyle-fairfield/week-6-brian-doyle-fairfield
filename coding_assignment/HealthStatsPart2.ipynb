{
 "cells": [
  {
   "cell_type": "markdown",
   "metadata": {},
   "source": [
    "# Health Stats Part 1: Waist 2 Hip Ratios"
   ]
  },
  {
   "cell_type": "markdown",
   "metadata": {},
   "source": [
    "<!--- Write an explanation of the Waist To Hips Ratio statistic used by health professionals. Please include an explanation of what it is used for, exactly how it is calculated, and how to interpret the results. Note: Formmatting matters. Make this as professional as you can using Markdown.  --->\n",
    "\n",
    "<!--- feel free to use any web resources, including [Wikipedia](https://en.wikipedia.org/wiki/Waist%E2%80%93hip_ratio) or any other resources that you can find online. Just MAKE SURE you provide a link to every resource you decide to use. --->\n",
    "\n",
    "<!--- Including the formula, or that fancy diagram/table you see on wikipedia is DEFINITELY a good idea! How? The LaTeX equations section in [This link](https://jupyter-notebook.readthedocs.io/en/stable/examples/Notebook/Working%20With%20Markdown%20Cells.html) might help. --->\n",
    "\n",
    "<!--- For extra points, try to create a table similar to the one on the wikipedia page on your own. --->\n",
    "\n",
    "__EDIT THIS MARKDOWN CELL__"
   ]
  },
  {
   "cell_type": "markdown",
   "metadata": {},
   "source": [
    "## Source Data "
   ]
  },
  {
   "cell_type": "markdown",
   "metadata": {},
   "source": [
    "<!--- Replace the text below with a Markdown bullet list that defines the columns of the CSV file. Be sure to indicate the data type for each column. --->\n",
    "\n",
    "<!--- Example can be: ID, unique identifier of each person, integer. Remember you need to put this into a bullet list! How? [This link](https://jupyter-notebook.readthedocs.io/en/stable/examples/Notebook/Working%20With%20Markdown%20Cells.html) might help. --->\n",
    "\n",
    "<!--- These two markdown cells are required in almost any analytical report. --->\n",
    "\n",
    "__EDIT THIS MARKDOWN CELL__\n",
    "\n",
    "W2H Ratio\n",
    "- point1\n",
    "- point2\n",
    "\n",
    "<img src = 'https://upload.wikimedia.org/wikipedia/commons/3/34/Abdominal_obesity_in_men.jpg' />\n",
    "\n",
    "| header1 | header2 |\n",
    "| ------- | ------- |\n",
    "| cell1 | cell 2 |\n",
    "\n",
    "$ ratio_{w2h} = \\frac{w}{h} $"
   ]
  },
  {
   "cell_type": "markdown",
   "metadata": {},
   "source": [
    "## Data Import"
   ]
  },
  {
   "cell_type": "code",
   "execution_count": 1,
   "metadata": {
    "collapsed": true,
    "jupyter": {
     "outputs_hidden": true
    }
   },
   "outputs": [],
   "source": [
    "# Goal: Extract the data from the file\n",
    "\n",
    "# opens the w2h_data.csv for reading\n",
    "f = open(\"w2h_data.csv\", \"r\")\n",
    "\n",
    "# loads the file into a list of strings, one string per line\n",
    "raw_lines = list(f)\n",
    "\n",
    "# closes the file\n",
    "f.close()"
   ]
  },
  {
   "cell_type": "code",
   "execution_count": 22,
   "metadata": {
    "collapsed": true,
    "jupyter": {
     "outputs_hidden": true
    }
   },
   "outputs": [
    {
     "name": "stdout",
     "output_type": "stream",
     "text": [
      "[{'Waist': 'ID', 'Hip': 'Waist', 'Gender': 'Hip'}, {'Waist': '1', 'Hip': '30', 'Gender': '32'}, {'Waist': '2', 'Hip': '32', 'Gender': '37'}, {'Waist': '3', 'Hip': '30', 'Gender': '36'}, {'Waist': '4', 'Hip': '33', 'Gender': '39'}, {'Waist': '5', 'Hip': '29', 'Gender': '33'}, {'Waist': '6', 'Hip': '32', 'Gender': '38'}, {'Waist': '7', 'Hip': '33', 'Gender': '42'}, {'Waist': '8', 'Hip': '30', 'Gender': '40'}, {'Waist': '9', 'Hip': '30', 'Gender': '37'}, {'Waist': '10', 'Hip': '32', 'Gender': '39'}, {'Waist': '11', 'Hip': '24', 'Gender': '35'}, {'Waist': '12', 'Hip': '25', 'Gender': '37'}, {'Waist': '13', 'Hip': '24', 'Gender': '37'}, {'Waist': '14', 'Hip': '22', 'Gender': '34'}, {'Waist': '15', 'Hip': '26', 'Gender': '38'}, {'Waist': '16', 'Hip': '26', 'Gender': '37'}, {'Waist': '17', 'Hip': '25', 'Gender': '38'}, {'Waist': '18', 'Hip': '26', 'Gender': '37'}, {'Waist': '19', 'Hip': '28', 'Gender': '40'}, {'Waist': '20', 'Hip': '23', 'Gender': '35'}]\n"
     ]
    }
   ],
   "source": [
    "# Goal: Extract the data from the file\n",
    "\n",
    "# opens the w2h_data.csv for reading\n",
    "f = open(\"w2h_data.csv\", \"r\")\n",
    "\n",
    "# loads the file into a list of strings, one string per line\n",
    "raw_lines = list(f)\n",
    "\n",
    "# closes the file\n",
    "f.close()\n",
    "\n",
    "# Goal: Scrub and convert the data, loading it into a new list called rows\n",
    "\n",
    "# Strips out newline '\\n' characters and converts to a list\n",
    "raw_rows = [r.rstrip('\\n').split(',') for r in raw_lines] # <--- Whoa. Why does this work? \n",
    "\n",
    "# Creates a new list, starting with just the column names\n",
    "rows = list() \n",
    "\n",
    "# The first row is the keys wit the column names\n",
    "keys = raw_rows[0];\n",
    "\n",
    "# Convert each row_row, starting with the second\n",
    "for raw_row in raw_rows[0:]:\n",
    "    row_dict = {}\n",
    "    # Note: the values in the raw_row list are all strings.\n",
    "    # Create a new list called row that converts each item in raw_row to the right data type  \n",
    "    row = [str(raw_row[0]),str(raw_row[1]),str(raw_row[2]),(raw_row[3])] # FIX THIS; you'll need to use conversion functions\n",
    "    \n",
    "    # structure the row as a dict  <-- FIX THIS: Write your code below\n",
    "    for i in range(len(keys))[1:]:\n",
    "#        print(i)\n",
    "        row_dict[keys[i]] = row[i-1]\n",
    "    \n",
    "    # Append the new row to the rows list as a dictionary <-- FIX THIS: Write your code below\n",
    "    rows.append(row_dict)\n",
    "    \n",
    "    \n",
    "# from here on out use the rows list instead of raw_rows or raw_lines\n",
    "print(rows)"
   ]
  },
  {
   "cell_type": "markdown",
   "metadata": {},
   "source": [
    "## Calculations"
   ]
  },
  {
   "cell_type": "code",
   "execution_count": 21,
   "metadata": {
    "collapsed": true,
    "jupyter": {
     "outputs_hidden": true
    }
   },
   "outputs": [
    {
     "ename": "ValueError",
     "evalue": "could not convert string to float: 'ID'",
     "output_type": "error",
     "traceback": [
      "\u001b[0;31m---------------------------------------------------------------------------\u001b[0m",
      "\u001b[0;31mValueError\u001b[0m                                Traceback (most recent call last)",
      "\u001b[0;32m<ipython-input-21-66f899a5d7da>\u001b[0m in \u001b[0;36m<module>\u001b[0;34m\u001b[0m\n\u001b[1;32m      7\u001b[0m \u001b[0;32mfor\u001b[0m \u001b[0mrow\u001b[0m \u001b[0;32min\u001b[0m \u001b[0mrows\u001b[0m\u001b[0;34m:\u001b[0m\u001b[0;34m\u001b[0m\u001b[0;34m\u001b[0m\u001b[0m\n\u001b[1;32m      8\u001b[0m     \u001b[0;31m# Calculate the w2h_ratio\u001b[0m\u001b[0;34m\u001b[0m\u001b[0;34m\u001b[0m\u001b[0;34m\u001b[0m\u001b[0m\n\u001b[0;32m----> 9\u001b[0;31m     \u001b[0mw2h_ratio\u001b[0m \u001b[0;34m=\u001b[0m \u001b[0mfloat\u001b[0m\u001b[0;34m(\u001b[0m\u001b[0mrow\u001b[0m\u001b[0;34m[\u001b[0m\u001b[0;34m\"Waist\"\u001b[0m\u001b[0;34m]\u001b[0m\u001b[0;34m)\u001b[0m\u001b[0;34m/\u001b[0m\u001b[0mfloat\u001b[0m\u001b[0;34m(\u001b[0m\u001b[0mrow\u001b[0m\u001b[0;34m[\u001b[0m\u001b[0;34m\"Hip\"\u001b[0m\u001b[0;34m]\u001b[0m\u001b[0;34m)\u001b[0m \u001b[0;31m# CHECK THIS; compare whether you did this in part 1\u001b[0m\u001b[0;34m\u001b[0m\u001b[0;34m\u001b[0m\u001b[0m\n\u001b[0m\u001b[1;32m     10\u001b[0m \u001b[0;34m\u001b[0m\u001b[0m\n\u001b[1;32m     11\u001b[0m     \u001b[0;31m# Based on the ratio and the gender, set the variable shape to either 'apple' or 'pear'\u001b[0m\u001b[0;34m\u001b[0m\u001b[0;34m\u001b[0m\u001b[0;34m\u001b[0m\u001b[0m\n",
      "\u001b[0;31mValueError\u001b[0m: could not convert string to float: 'ID'"
     ]
    }
   ],
   "source": [
    "# Goal: For each row of data calculate and store the w2h_ratio and shape.\n",
    "\n",
    "# Adds columns for the two new variables\n",
    "#rows[0].extend([\"W2H Ratio\",\"Shape\"])\n",
    "\n",
    "# For each row in the rows list, calculate the waist to hips ratio and shape\n",
    "for row in rows:\n",
    "    # Calculate the w2h_ratio \n",
    "    w2h_ratio = float(row[\"Waist\"])/float(row[\"Hip\"]) # CHECK THIS; compare whether you did this in part 1\n",
    "    \n",
    "    # Based on the ratio and the gender, set the variable shape to either 'apple' or 'pear'\n",
    "    #shape = 'Pear' # CHECK THIS; compare whether you did this in part 1\n",
    "    if ((row[\"Gender\\r\"]=='M' and w2h_ratio > 0.9) or (row[\"Gender\\r\"] == 'F' and w2h_ratio > 0.8)) :\n",
    "        shape = \"Apple\"\n",
    "    else:\n",
    "        shape = \"Pear\"\n",
    "    \n",
    "    # Add the new data to the end of the row\n",
    "    row[\"W2H Ratio\"] = w2h_ratio\n",
    "    row[\"Shape\"] = shape\n",
    "#row += [w2h_ratio, shape] # note: += is shorthand for the extend method used above\n",
    "    "
   ]
  },
  {
   "cell_type": "markdown",
   "metadata": {},
   "source": [
    "## Output"
   ]
  },
  {
   "cell_type": "code",
   "execution_count": 23,
   "metadata": {},
   "outputs": [],
   "source": [
    "# Goal: pretty print the rows as an HTML table\n",
    "\n",
    "import pandas as pd\n",
    "\n",
    "# Note: this works, but we can do this much better with pandas\n",
    "#html_table = '<table><tr><th>'\n",
    "#html_table += \"</th><th>\".join(rows[0].keys())\n",
    "#html_table += '</th></tr>'\n",
    "#for row in rows:\n",
    "#    html_table += \"<tr><td>\"\n",
    "#    html_table += \"</td><td>\".join(str(v) for v in row.values())\n",
    "#    html_table += \"</td></tr>\"\n",
    "#html_table += \"</table>\"\n",
    "\n",
    "#from IPython.display import HTML, display\n",
    "#display(HTML(html_table))\n",
    "\n",
    "df = pd.DataFrame([rows[0]])\n",
    "\n",
    "for row in rows[1:]:\n",
    "    df = df.append([row])\n",
    "df.to_html(\"RatioResults.html\")"
   ]
  },
  {
   "cell_type": "code",
   "execution_count": 24,
   "metadata": {},
   "outputs": [
    {
     "data": {
      "text/plain": [
       "dict_values(['ID', 'Waist', 'Hip'])"
      ]
     },
     "execution_count": 24,
     "metadata": {},
     "output_type": "execute_result"
    }
   ],
   "source": [
    "rows[0].values()"
   ]
  },
  {
   "cell_type": "code",
   "execution_count": 25,
   "metadata": {
    "collapsed": true,
    "jupyter": {
     "outputs_hidden": true
    }
   },
   "outputs": [
    {
     "data": {
      "text/html": [
       "<div>\n",
       "<style scoped>\n",
       "    .dataframe tbody tr th:only-of-type {\n",
       "        vertical-align: middle;\n",
       "    }\n",
       "\n",
       "    .dataframe tbody tr th {\n",
       "        vertical-align: top;\n",
       "    }\n",
       "\n",
       "    .dataframe thead th {\n",
       "        text-align: right;\n",
       "    }\n",
       "</style>\n",
       "<table border=\"1\" class=\"dataframe\">\n",
       "  <thead>\n",
       "    <tr style=\"text-align: right;\">\n",
       "      <th></th>\n",
       "      <th>Waist</th>\n",
       "      <th>Hip</th>\n",
       "      <th>Gender</th>\n",
       "    </tr>\n",
       "  </thead>\n",
       "  <tbody>\n",
       "    <tr>\n",
       "      <th>0</th>\n",
       "      <td>ID</td>\n",
       "      <td>Waist</td>\n",
       "      <td>Hip</td>\n",
       "    </tr>\n",
       "    <tr>\n",
       "      <th>0</th>\n",
       "      <td>1</td>\n",
       "      <td>30</td>\n",
       "      <td>32</td>\n",
       "    </tr>\n",
       "    <tr>\n",
       "      <th>0</th>\n",
       "      <td>2</td>\n",
       "      <td>32</td>\n",
       "      <td>37</td>\n",
       "    </tr>\n",
       "    <tr>\n",
       "      <th>0</th>\n",
       "      <td>3</td>\n",
       "      <td>30</td>\n",
       "      <td>36</td>\n",
       "    </tr>\n",
       "    <tr>\n",
       "      <th>0</th>\n",
       "      <td>4</td>\n",
       "      <td>33</td>\n",
       "      <td>39</td>\n",
       "    </tr>\n",
       "    <tr>\n",
       "      <th>0</th>\n",
       "      <td>5</td>\n",
       "      <td>29</td>\n",
       "      <td>33</td>\n",
       "    </tr>\n",
       "    <tr>\n",
       "      <th>0</th>\n",
       "      <td>6</td>\n",
       "      <td>32</td>\n",
       "      <td>38</td>\n",
       "    </tr>\n",
       "    <tr>\n",
       "      <th>0</th>\n",
       "      <td>7</td>\n",
       "      <td>33</td>\n",
       "      <td>42</td>\n",
       "    </tr>\n",
       "    <tr>\n",
       "      <th>0</th>\n",
       "      <td>8</td>\n",
       "      <td>30</td>\n",
       "      <td>40</td>\n",
       "    </tr>\n",
       "    <tr>\n",
       "      <th>0</th>\n",
       "      <td>9</td>\n",
       "      <td>30</td>\n",
       "      <td>37</td>\n",
       "    </tr>\n",
       "    <tr>\n",
       "      <th>0</th>\n",
       "      <td>10</td>\n",
       "      <td>32</td>\n",
       "      <td>39</td>\n",
       "    </tr>\n",
       "    <tr>\n",
       "      <th>0</th>\n",
       "      <td>11</td>\n",
       "      <td>24</td>\n",
       "      <td>35</td>\n",
       "    </tr>\n",
       "    <tr>\n",
       "      <th>0</th>\n",
       "      <td>12</td>\n",
       "      <td>25</td>\n",
       "      <td>37</td>\n",
       "    </tr>\n",
       "    <tr>\n",
       "      <th>0</th>\n",
       "      <td>13</td>\n",
       "      <td>24</td>\n",
       "      <td>37</td>\n",
       "    </tr>\n",
       "    <tr>\n",
       "      <th>0</th>\n",
       "      <td>14</td>\n",
       "      <td>22</td>\n",
       "      <td>34</td>\n",
       "    </tr>\n",
       "    <tr>\n",
       "      <th>0</th>\n",
       "      <td>15</td>\n",
       "      <td>26</td>\n",
       "      <td>38</td>\n",
       "    </tr>\n",
       "    <tr>\n",
       "      <th>0</th>\n",
       "      <td>16</td>\n",
       "      <td>26</td>\n",
       "      <td>37</td>\n",
       "    </tr>\n",
       "    <tr>\n",
       "      <th>0</th>\n",
       "      <td>17</td>\n",
       "      <td>25</td>\n",
       "      <td>38</td>\n",
       "    </tr>\n",
       "    <tr>\n",
       "      <th>0</th>\n",
       "      <td>18</td>\n",
       "      <td>26</td>\n",
       "      <td>37</td>\n",
       "    </tr>\n",
       "    <tr>\n",
       "      <th>0</th>\n",
       "      <td>19</td>\n",
       "      <td>28</td>\n",
       "      <td>40</td>\n",
       "    </tr>\n",
       "    <tr>\n",
       "      <th>0</th>\n",
       "      <td>20</td>\n",
       "      <td>23</td>\n",
       "      <td>35</td>\n",
       "    </tr>\n",
       "  </tbody>\n",
       "</table>\n",
       "</div>"
      ],
      "text/plain": [
       "  Waist    Hip Gender\n",
       "0    ID  Waist    Hip\n",
       "0     1     30     32\n",
       "0     2     32     37\n",
       "0     3     30     36\n",
       "0     4     33     39\n",
       "0     5     29     33\n",
       "0     6     32     38\n",
       "0     7     33     42\n",
       "0     8     30     40\n",
       "0     9     30     37\n",
       "0    10     32     39\n",
       "0    11     24     35\n",
       "0    12     25     37\n",
       "0    13     24     37\n",
       "0    14     22     34\n",
       "0    15     26     38\n",
       "0    16     26     37\n",
       "0    17     25     38\n",
       "0    18     26     37\n",
       "0    19     28     40\n",
       "0    20     23     35"
      ]
     },
     "execution_count": 25,
     "metadata": {},
     "output_type": "execute_result"
    }
   ],
   "source": [
    "df"
   ]
  },
  {
   "cell_type": "code",
   "execution_count": 26,
   "metadata": {},
   "outputs": [
    {
     "data": {
      "text/html": [
       "<div>\n",
       "<style scoped>\n",
       "    .dataframe tbody tr th:only-of-type {\n",
       "        vertical-align: middle;\n",
       "    }\n",
       "\n",
       "    .dataframe tbody tr th {\n",
       "        vertical-align: top;\n",
       "    }\n",
       "\n",
       "    .dataframe thead th {\n",
       "        text-align: right;\n",
       "    }\n",
       "</style>\n",
       "<table border=\"1\" class=\"dataframe\">\n",
       "  <thead>\n",
       "    <tr style=\"text-align: right;\">\n",
       "      <th></th>\n",
       "      <th>Waist</th>\n",
       "      <th>Hip</th>\n",
       "      <th>Gender</th>\n",
       "    </tr>\n",
       "  </thead>\n",
       "  <tbody>\n",
       "    <tr>\n",
       "      <th>0</th>\n",
       "      <td>ID</td>\n",
       "      <td>Waist</td>\n",
       "      <td>Hip</td>\n",
       "    </tr>\n",
       "  </tbody>\n",
       "</table>\n",
       "</div>"
      ],
      "text/plain": [
       "  Waist    Hip Gender\n",
       "0    ID  Waist    Hip"
      ]
     },
     "execution_count": 26,
     "metadata": {},
     "output_type": "execute_result"
    }
   ],
   "source": [
    "pd.DataFrame([rows[0]])"
   ]
  },
  {
   "cell_type": "code",
   "execution_count": null,
   "metadata": {},
   "outputs": [],
   "source": []
  }
 ],
 "metadata": {
  "kernelspec": {
   "display_name": "Python 3",
   "language": "python",
   "name": "python3"
  },
  "language_info": {
   "codemirror_mode": {
    "name": "ipython",
    "version": 3
   },
   "file_extension": ".py",
   "mimetype": "text/x-python",
   "name": "python",
   "nbconvert_exporter": "python",
   "pygments_lexer": "ipython3",
   "version": "3.6.7"
  }
 },
 "nbformat": 4,
 "nbformat_minor": 2
}
